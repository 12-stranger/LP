{
 "cells": [
  {
   "cell_type": "code",
   "execution_count": 1,
   "id": "2662e4c9",
   "metadata": {},
   "outputs": [],
   "source": [
    "arr = [5,4,3,2,1]"
   ]
  },
  {
   "cell_type": "code",
   "execution_count": 8,
   "id": "0a7a0456",
   "metadata": {},
   "outputs": [],
   "source": [
    "def selectionSort(arr,n):\n",
    "    for i in range(n):\n",
    "        minIndex = i\n",
    "        for j in range(i+1,n):\n",
    "            if(arr[j]<arr[minIndex]):\n",
    "                minIndex = j\n",
    "        #swap\n",
    "        temp = arr[i]\n",
    "        arr[i] = arr[minIndex]\n",
    "        arr[minIndex] = temp"
   ]
  },
  {
   "cell_type": "code",
   "execution_count": 10,
   "id": "944fce12",
   "metadata": {},
   "outputs": [],
   "source": [
    "selectionSort(arr,5)"
   ]
  },
  {
   "cell_type": "code",
   "execution_count": 11,
   "id": "c7443fae",
   "metadata": {},
   "outputs": [
    {
     "data": {
      "text/plain": [
       "[1, 2, 3, 4, 5]"
      ]
     },
     "execution_count": 11,
     "metadata": {},
     "output_type": "execute_result"
    }
   ],
   "source": [
    "arr"
   ]
  }
 ],
 "metadata": {
  "kernelspec": {
   "display_name": "Python 3 (ipykernel)",
   "language": "python",
   "name": "python3"
  },
  "language_info": {
   "codemirror_mode": {
    "name": "ipython",
    "version": 3
   },
   "file_extension": ".py",
   "mimetype": "text/x-python",
   "name": "python",
   "nbconvert_exporter": "python",
   "pygments_lexer": "ipython3",
   "version": "3.11.0"
  }
 },
 "nbformat": 4,
 "nbformat_minor": 5
}
