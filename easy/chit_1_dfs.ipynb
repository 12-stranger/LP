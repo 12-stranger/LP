{
 "cells": [
  {
   "cell_type": "code",
   "execution_count": 1,
   "id": "1962e331",
   "metadata": {},
   "outputs": [],
   "source": [
    "def dfs(graph,node,visited=set()):\n",
    "    print(node)\n",
    "    visited.add(node)\n",
    "    for child in graph[node]:\n",
    "        if child not in visited:\n",
    "            dfs(graph,child,visited)"
   ]
  },
  {
   "cell_type": "code",
   "execution_count": 2,
   "id": "cf7505e5",
   "metadata": {},
   "outputs": [],
   "source": [
    "inp = [[1,2],[1,5],[2,3],[2,4],[2,5],[2,5],[3,4],[3,6],[4,5],[4,6],[5,6]]\n",
    "\n",
    "graph = {}\n",
    "n=6\n",
    "for i in range(1,n+1):\n",
    "    graph[i]=[]"
   ]
  },
  {
   "cell_type": "code",
   "execution_count": 3,
   "id": "59df2a56",
   "metadata": {},
   "outputs": [
    {
     "data": {
      "text/plain": [
       "{1: [], 2: [], 3: [], 4: [], 5: [], 6: []}"
      ]
     },
     "execution_count": 3,
     "metadata": {},
     "output_type": "execute_result"
    }
   ],
   "source": [
    "graph"
   ]
  },
  {
   "cell_type": "code",
   "execution_count": 4,
   "id": "0c9e4c1d",
   "metadata": {},
   "outputs": [],
   "source": [
    "for (u,v) in inp:\n",
    "    graph[u].append(v)\n",
    "    graph[v].append(u)"
   ]
  },
  {
   "cell_type": "code",
   "execution_count": 5,
   "id": "a700820e",
   "metadata": {},
   "outputs": [
    {
     "data": {
      "text/plain": [
       "{1: [2, 5],\n",
       " 2: [1, 3, 4, 5, 5],\n",
       " 3: [2, 4, 6],\n",
       " 4: [2, 3, 5, 6],\n",
       " 5: [1, 2, 2, 4, 6],\n",
       " 6: [3, 4, 5]}"
      ]
     },
     "execution_count": 5,
     "metadata": {},
     "output_type": "execute_result"
    }
   ],
   "source": [
    "graph"
   ]
  },
  {
   "cell_type": "code",
   "execution_count": 7,
   "id": "9b004116",
   "metadata": {},
   "outputs": [
    {
     "name": "stdout",
     "output_type": "stream",
     "text": [
      "1\n"
     ]
    }
   ],
   "source": [
    "dfs(graph,1)"
   ]
  }
 ],
 "metadata": {
  "kernelspec": {
   "display_name": "Python 3 (ipykernel)",
   "language": "python",
   "name": "python3"
  },
  "language_info": {
   "codemirror_mode": {
    "name": "ipython",
    "version": 3
   },
   "file_extension": ".py",
   "mimetype": "text/x-python",
   "name": "python",
   "nbconvert_exporter": "python",
   "pygments_lexer": "ipython3",
   "version": "3.9.12"
  }
 },
 "nbformat": 4,
 "nbformat_minor": 5
}
